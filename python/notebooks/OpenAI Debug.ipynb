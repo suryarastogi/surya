{
 "cells": [
  {
   "cell_type": "code",
   "execution_count": 10,
   "id": "8327ec1f-4d3e-47de-86d1-3546885b4fd4",
   "metadata": {
    "tags": []
   },
   "outputs": [
    {
     "name": "stdout",
     "output_type": "stream",
     "text": [
      "GPT4 Acces: False\n",
      "GPT Models: ['gpt-3.5-turbo', 'gpt-3.5-turbo-0301']\n"
     ]
    }
   ],
   "source": [
    "import os\n",
    "import openai\n",
    "\n",
    "openai.api_key = os.getenv(\"OPENAI_API_KEY\")\n",
    "data = openai.Model.list()\n",
    "have_gpt4 = False\n",
    "\n",
    "gpt_models = []\n",
    "for model in data[\"data\"]:\n",
    "    if \"gpt\" in model[\"root\"]:\n",
    "        gpt_models.append(model[\"root\"])\n",
    "        \n",
    "    if \"gpt-4\" in model[\"root\"]:\n",
    "        have_gpt4 = True\n",
    "\n",
    "print(f\"GPT4 Acces: {have_gpt4}\")\n",
    "print(f\"GPT Models: {gpt_models}\")"
   ]
  }
 ],
 "metadata": {
  "kernelspec": {
   "display_name": "Python 3 (ipykernel)",
   "language": "python",
   "name": "python3"
  },
  "language_info": {
   "codemirror_mode": {
    "name": "ipython",
    "version": 3
   },
   "file_extension": ".py",
   "mimetype": "text/x-python",
   "name": "python",
   "nbconvert_exporter": "python",
   "pygments_lexer": "ipython3",
   "version": "3.9.16"
  }
 },
 "nbformat": 4,
 "nbformat_minor": 5
}
