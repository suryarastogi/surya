{
 "cells": [
  {
   "cell_type": "markdown",
   "id": "4ba0504e-5003-4948-94f1-d8e33f2c8a55",
   "metadata": {
    "tags": []
   },
   "source": [
    "# SQL Example"
   ]
  },
  {
   "cell_type": "code",
   "execution_count": 1,
   "id": "56d276b8-28af-48cc-afca-80d09917b64f",
   "metadata": {
    "tags": []
   },
   "outputs": [
    {
     "name": "stdout",
     "output_type": "stream",
     "text": [
      "    d.name\n",
      "FROM\n",
      "    Department d\n",
      "INNER JOIN\n",
      "    Employee e\n",
      "ON\n",
      "    d.id = e.department_id\n",
      "INNER JOIN\n",
      "    Salary_Payments sp\n",
      "ON\n",
      "    e.id = sp.employee_id\n",
      "WHERE\n",
      "    sp.date > NOW() - INTERVAL '3 months'\n",
      "GROUP BY\n",
      "    d.name\n",
      "HAVING\n",
      "    COUNT(e.id) > 10\n"
     ]
    }
   ],
   "source": [
    "import os\n",
    "import openai\n",
    "\n",
    "openai.api_key = os.getenv(\"OPENAI_API_KEY\")\n",
    "\n",
    "prompt = \"\"\"\n",
    "### Postgres SQL tables, with their properties:\n",
    "#\n",
    "# Employee(id, name, department_id)\n",
    "# Department(id, name, address)\n",
    "# Salary_Payments(id, employee_id, amount, date)\n",
    "#\n",
    "### A query to list the names of the departments which employed more than 10 employees in the last 3 months\n",
    "SELECT\n",
    "\"\"\"\n",
    "\n",
    "response = openai.Completion.create(\n",
    "  model=\"text-davinci-003\",\n",
    "  prompt=prompt,\n",
    "  temperature=0,\n",
    "  max_tokens=150,\n",
    "  top_p=1.0,\n",
    "  frequency_penalty=0.0,\n",
    "  presence_penalty=0.0,\n",
    "  stop=[\"#\", \";\"]\n",
    ")\n",
    "print(response.choices[0][\"text\"])"
   ]
  },
  {
   "cell_type": "code",
   "execution_count": 4,
   "id": "154ecd43-8163-484c-a0f1-e01e171a0140",
   "metadata": {
    "tags": []
   },
   "outputs": [
    {
     "name": "stdout",
     "output_type": "stream",
     "text": [
      "Department.name\n",
      "FROM\n",
      "Department\n",
      "INNER JOIN Employee ON Employee.department_id = Department.id\n",
      "INNER JOIN Salary_Payments ON Salary_Payments.employee_id = Employee.id\n",
      "WHERE\n",
      "Salary_Payments.date >= DATE_TRUNC('month', NOW()) - INTERVAL '3 MONTH'\n",
      "GROUP BY\n",
      "Department.name\n",
      "HAVING\n",
      "COUNT(Employee.id) > 10;\n"
     ]
    }
   ],
   "source": [
    "base_prompt = \"\"\"\n",
    "### Postgres SQL tables, with their properties:\n",
    "#\n",
    "# Employee(id, name, department_id)\n",
    "# Department(id, name, address)\n",
    "# Salary_Payments(id, employee_id, amount, date)\n",
    "#\n",
    "\"\"\"\n",
    "\n",
    "user_query = \"\"\"\n",
    "### A query to list the names of the departments which employed more than 10 employees in the last 3 months\n",
    "SELECT\n",
    "\"\"\"\n",
    "\n",
    "response = openai.ChatCompletion.create(\n",
    "  model=\"gpt-3.5-turbo\",\n",
    "  messages=[\n",
    "        {\"role\": \"system\", \"content\": base_prompt},\n",
    "        {\"role\": \"user\", \"content\": user_query},\n",
    "    ]\n",
    ")\n",
    "print(response[\"choices\"][0][\"message\"][\"content\"])"
   ]
  }
 ],
 "metadata": {
  "kernelspec": {
   "display_name": "Python 3 (ipykernel)",
   "language": "python",
   "name": "python3"
  },
  "language_info": {
   "codemirror_mode": {
    "name": "ipython",
    "version": 3
   },
   "file_extension": ".py",
   "mimetype": "text/x-python",
   "name": "python",
   "nbconvert_exporter": "python",
   "pygments_lexer": "ipython3",
   "version": "3.9.16"
  }
 },
 "nbformat": 4,
 "nbformat_minor": 5
}
